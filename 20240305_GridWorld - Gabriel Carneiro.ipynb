{
  "nbformat": 4,
  "nbformat_minor": 0,
  "metadata": {
    "colab": {
      "provenance": [],
      "authorship_tag": "ABX9TyOCy3jbs67/3NIW05hfV1TO",
      "include_colab_link": true
    },
    "kernelspec": {
      "name": "python3",
      "display_name": "Python 3"
    },
    "language_info": {
      "name": "python"
    }
  },
  "cells": [
    {
      "cell_type": "markdown",
      "metadata": {
        "id": "view-in-github",
        "colab_type": "text"
      },
      "source": [
        "<a href=\"https://colab.research.google.com/github/gbcarneiro/gridworldrl/blob/main/20240305_GridWorld%20-%20Gabriel%20Carneiro.ipynb\" target=\"_parent\"><img src=\"https://colab.research.google.com/assets/colab-badge.svg\" alt=\"Open In Colab\"/></a>"
      ]
    },
    {
      "cell_type": "code",
      "source": [
        "import numpy as np\n",
        "from collections import deque\n",
        "\n",
        "class GridWorld():\n",
        "  def __init__(self):\n",
        "    self.rows = 8\n",
        "    self.columns = 8\n",
        "    self.grid = np.zeros((self.rows, self.columns))  # Representando um grid 8x8\n",
        "\n",
        "    # Definindo as células de montanha e areia movediça\n",
        "    self.montanhas = [(1, 0), (2, 3)]\n",
        "    self.areias = [(4, 4), (5, 5)]\n",
        "\n",
        "    for c in self.montanhas:\n",
        "        self.grid[c] = -1\n",
        "\n",
        "    for c in self.areias:\n",
        "        self.grid[c] = -2\n",
        "\n",
        "    # Pontos de início e chegada\n",
        "    self.start = (7, 0)\n",
        "    self.win = (0, 7)\n",
        "    self.lose = (7, 7)\n",
        "\n",
        "    # Estado inicial\n",
        "    self.state = self.start\n",
        "    self.finish = False\n",
        "\n",
        "  def reward(self):\n",
        "    if self.state == self.win:\n",
        "        return 1\n",
        "\n",
        "    elif self.state == self.lose:\n",
        "        return -3\n",
        "\n",
        "    return 0\n",
        "\n",
        "  def winnerOrLooser(self):\n",
        "      self.finish = self.state == self.win or self.state == self.lose\n",
        "\n",
        "  def nextStep(self, action):\n",
        "    # Lógica para atualizar o estado baseado na ação\n",
        "    x, y = self.state\n",
        "    if action == 'up':\n",
        "        x = max(x - 1, 0)\n",
        "\n",
        "    elif action == 'down':\n",
        "        x = min(x + 1, self.rows - 1)\n",
        "\n",
        "    elif action == 'left':\n",
        "        y = max(y - 1, 0)\n",
        "\n",
        "    elif action == 'right':\n",
        "        y = min(y + 1, self.columns - 1)\n",
        "\n",
        "    if (x, y) != self.lose:  # Evitar movimento para a célula de perda\n",
        "        self.state = x, y\n",
        "\n",
        "    self.winnerOrLooser()\n",
        "\n",
        "  def showGrid(self):\n",
        "    for i in range(self.rows):\n",
        "      for j in range(self.columns):\n",
        "        if (i, j) == self.state:\n",
        "          print(\"A | \", end=\"\")  # A para Agente\n",
        "        elif (i, j) == self.win:\n",
        "          print(\"W | \", end=\"\")  # W para Vitória (Win)\n",
        "        elif (i, j) == self.lose:\n",
        "          print(\"L | \", end=\"\")  # L para Perda (Lose)\n",
        "        else:\n",
        "          print(f'{self.grid[i, j]:.0f} | ', end='')\n",
        "\n",
        "      print(\"\\n\")\n",
        "\n",
        "  def validarCampo(self, celula):\n",
        "    # Verifica se a célula é válida para o movimento do agente.\n",
        "    x, y = celula\n",
        "    return 0 <= x < self.rows and 0 <= y < self.columns and celula not in self.montanhas and celula not in self.areias\n",
        "\n",
        "  def encontrarRota(self):\n",
        "    # Encontra uma rota do ponto de início ao ponto de chegada.\n",
        "    fila = deque([self.start])\n",
        "    visitados = {self.start: None}\n",
        "\n",
        "    while fila:\n",
        "      atual = fila.popleft()\n",
        "\n",
        "      if atual == self.win:\n",
        "        break  # Encontrou o caminho até o ponto de chegada\n",
        "\n",
        "      # Verificar células adjacentes\n",
        "      for dx, dy in [(1, 0), (-1, 0), (0, 1), (0, -1)]:\n",
        "        proxima_celula = (atual[0] + dx, atual[1] + dy)\n",
        "\n",
        "        if self.validarCampo(proxima_celula) and proxima_celula not in visitados:\n",
        "          fila.append(proxima_celula)\n",
        "          visitados[proxima_celula] = atual\n",
        "\n",
        "    caminho = []\n",
        "    celula = self.win\n",
        "    while celula is not None:\n",
        "        caminho.append(celula)\n",
        "        celula = visitados[celula]\n",
        "\n",
        "    return caminho[::-1]  # Inverter para começar do início\n"
      ],
      "metadata": {
        "id": "bs0pzQX8vbX7"
      },
      "execution_count": 15,
      "outputs": []
    },
    {
      "cell_type": "code",
      "source": [
        "# Exemplo de uso\n",
        "gw = GridWorld()\n",
        "gw.showGrid()\n",
        "\n",
        "print('------------------------')\n",
        "route = gw.encontrarRota()\n",
        "print(\"Rota encontrada:\", route)\n"
      ],
      "metadata": {
        "colab": {
          "base_uri": "https://localhost:8080/"
        },
        "id": "wy3jd_j_DIAv",
        "outputId": "228898e5-eaa2-4e41-d16b-40f2f93cc283"
      },
      "execution_count": 16,
      "outputs": [
        {
          "output_type": "stream",
          "name": "stdout",
          "text": [
            "0 | 0 | 0 | 0 | 0 | 0 | 0 | W | \n",
            "\n",
            "-1 | 0 | 0 | 0 | 0 | 0 | 0 | 0 | \n",
            "\n",
            "0 | 0 | 0 | -1 | 0 | 0 | 0 | 0 | \n",
            "\n",
            "0 | 0 | 0 | 0 | 0 | 0 | 0 | 0 | \n",
            "\n",
            "0 | 0 | 0 | 0 | -2 | 0 | 0 | 0 | \n",
            "\n",
            "0 | 0 | 0 | 0 | 0 | -2 | 0 | 0 | \n",
            "\n",
            "0 | 0 | 0 | 0 | 0 | 0 | 0 | 0 | \n",
            "\n",
            "A | 0 | 0 | 0 | 0 | 0 | 0 | L | \n",
            "\n",
            "------------------------\n",
            "Rota encontrada: [(7, 0), (6, 0), (5, 0), (4, 0), (3, 0), (2, 0), (2, 1), (1, 1), (0, 1), (0, 2), (0, 3), (0, 4), (0, 5), (0, 6), (0, 7)]\n"
          ]
        }
      ]
    }
  ]
}